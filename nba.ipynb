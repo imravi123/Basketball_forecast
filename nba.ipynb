{
 "cells": [
  {
   "cell_type": "code",
   "execution_count": 1,
   "metadata": {},
   "outputs": [],
   "source": [
    "import pandas as pd\n",
    "import numpy as np"
   ]
  },
  {
   "cell_type": "code",
   "execution_count": 2,
   "metadata": {},
   "outputs": [],
   "source": [
    "df=pd.read_csv(\"../march-machine-learning-mania-2023/Cities.csv\")"
   ]
  },
  {
   "cell_type": "code",
   "execution_count": 3,
   "metadata": {},
   "outputs": [
    {
     "data": {
      "text/html": [
       "<div>\n",
       "<style scoped>\n",
       "    .dataframe tbody tr th:only-of-type {\n",
       "        vertical-align: middle;\n",
       "    }\n",
       "\n",
       "    .dataframe tbody tr th {\n",
       "        vertical-align: top;\n",
       "    }\n",
       "\n",
       "    .dataframe thead th {\n",
       "        text-align: right;\n",
       "    }\n",
       "</style>\n",
       "<table border=\"1\" class=\"dataframe\">\n",
       "  <thead>\n",
       "    <tr style=\"text-align: right;\">\n",
       "      <th></th>\n",
       "      <th>CityID</th>\n",
       "      <th>City</th>\n",
       "      <th>State</th>\n",
       "    </tr>\n",
       "  </thead>\n",
       "  <tbody>\n",
       "    <tr>\n",
       "      <th>0</th>\n",
       "      <td>4001</td>\n",
       "      <td>Abilene</td>\n",
       "      <td>TX</td>\n",
       "    </tr>\n",
       "    <tr>\n",
       "      <th>1</th>\n",
       "      <td>4002</td>\n",
       "      <td>Akron</td>\n",
       "      <td>OH</td>\n",
       "    </tr>\n",
       "    <tr>\n",
       "      <th>2</th>\n",
       "      <td>4003</td>\n",
       "      <td>Albany</td>\n",
       "      <td>NY</td>\n",
       "    </tr>\n",
       "    <tr>\n",
       "      <th>3</th>\n",
       "      <td>4004</td>\n",
       "      <td>Albuquerque</td>\n",
       "      <td>NM</td>\n",
       "    </tr>\n",
       "    <tr>\n",
       "      <th>4</th>\n",
       "      <td>4005</td>\n",
       "      <td>Allentown</td>\n",
       "      <td>PA</td>\n",
       "    </tr>\n",
       "  </tbody>\n",
       "</table>\n",
       "</div>"
      ],
      "text/plain": [
       "   CityID         City State\n",
       "0    4001      Abilene    TX\n",
       "1    4002        Akron    OH\n",
       "2    4003       Albany    NY\n",
       "3    4004  Albuquerque    NM\n",
       "4    4005    Allentown    PA"
      ]
     },
     "execution_count": 3,
     "metadata": {},
     "output_type": "execute_result"
    }
   ],
   "source": [
    "df.head()"
   ]
  },
  {
   "cell_type": "code",
   "execution_count": 4,
   "metadata": {},
   "outputs": [
    {
     "name": "stdout",
     "output_type": "stream",
     "text": [
      "Collecting matplotlib\n",
      "  Downloading matplotlib-3.7.0-cp311-cp311-win_amd64.whl (7.6 MB)\n",
      "     ---------------------------------------- 0.0/7.6 MB ? eta -:--:--\n",
      "     ---------------------------------------- 0.0/7.6 MB 960.0 kB/s eta 0:00:08\n",
      "      --------------------------------------- 0.2/7.6 MB 2.1 MB/s eta 0:00:04\n",
      "     - -------------------------------------- 0.3/7.6 MB 2.5 MB/s eta 0:00:03\n",
      "     -- ------------------------------------- 0.6/7.6 MB 3.2 MB/s eta 0:00:03\n",
      "     ---- ----------------------------------- 0.9/7.6 MB 4.0 MB/s eta 0:00:02\n",
      "     ------- -------------------------------- 1.5/7.6 MB 5.6 MB/s eta 0:00:02\n",
      "     ----------- ---------------------------- 2.1/7.6 MB 6.8 MB/s eta 0:00:01\n",
      "     ------------ --------------------------- 2.3/7.6 MB 7.0 MB/s eta 0:00:01\n",
      "     ------------- -------------------------- 2.6/7.6 MB 6.6 MB/s eta 0:00:01\n",
      "     --------------- ------------------------ 2.9/7.6 MB 6.4 MB/s eta 0:00:01\n",
      "     --------------- ------------------------ 2.9/7.6 MB 6.4 MB/s eta 0:00:01\n",
      "     ------------------ --------------------- 3.5/7.6 MB 6.4 MB/s eta 0:00:01\n",
      "     -------------------- ------------------- 3.9/7.6 MB 6.7 MB/s eta 0:00:01\n",
      "     --------------------- ------------------ 4.2/7.6 MB 6.5 MB/s eta 0:00:01\n",
      "     ---------------------- ----------------- 4.3/7.6 MB 6.2 MB/s eta 0:00:01\n",
      "     ------------------------ --------------- 4.8/7.6 MB 6.5 MB/s eta 0:00:01\n",
      "     -------------------------- ------------- 5.1/7.6 MB 6.6 MB/s eta 0:00:01\n",
      "     ---------------------------- ----------- 5.5/7.6 MB 6.7 MB/s eta 0:00:01\n",
      "     ----------------------------- ---------- 5.6/7.6 MB 6.6 MB/s eta 0:00:01\n",
      "     ------------------------------ --------- 5.8/7.6 MB 6.5 MB/s eta 0:00:01\n",
      "     -------------------------------- ------- 6.2/7.6 MB 6.5 MB/s eta 0:00:01\n",
      "     --------------------------------- ------ 6.4/7.6 MB 6.4 MB/s eta 0:00:01\n",
      "     ---------------------------------- ----- 6.6/7.6 MB 6.3 MB/s eta 0:00:01\n",
      "     ----------------------------------- ---- 6.7/7.6 MB 6.1 MB/s eta 0:00:01\n",
      "     ----------------------------------- ---- 6.9/7.6 MB 5.9 MB/s eta 0:00:01\n",
      "     ------------------------------------ --- 7.0/7.6 MB 5.8 MB/s eta 0:00:01\n",
      "     ------------------------------------ --- 7.1/7.6 MB 5.7 MB/s eta 0:00:01\n",
      "     ------------------------------------- -- 7.2/7.6 MB 5.5 MB/s eta 0:00:01\n",
      "     -------------------------------------- - 7.3/7.6 MB 5.4 MB/s eta 0:00:01\n",
      "     -------------------------------------- - 7.4/7.6 MB 5.3 MB/s eta 0:00:01\n",
      "     ---------------------------------------  7.5/7.6 MB 5.2 MB/s eta 0:00:01\n",
      "     ---------------------------------------  7.6/7.6 MB 5.1 MB/s eta 0:00:01\n",
      "     ---------------------------------------- 7.6/7.6 MB 5.0 MB/s eta 0:00:00\n",
      "Collecting contourpy>=1.0.1\n",
      "  Downloading contourpy-1.0.7-cp311-cp311-win_amd64.whl (162 kB)\n",
      "     ---------------------------------------- 0.0/163.0 kB ? eta -:--:--\n",
      "     ---------------------- ---------------- 92.2/163.0 kB 5.1 MB/s eta 0:00:01\n",
      "     -------------------------------------- 163.0/163.0 kB 2.4 MB/s eta 0:00:00\n",
      "Collecting cycler>=0.10\n",
      "  Downloading cycler-0.11.0-py3-none-any.whl (6.4 kB)\n",
      "Collecting fonttools>=4.22.0\n",
      "  Downloading fonttools-4.38.0-py3-none-any.whl (965 kB)\n",
      "     ---------------------------------------- 0.0/965.4 kB ? eta -:--:--\n",
      "     ---- --------------------------------- 112.6/965.4 kB 3.3 MB/s eta 0:00:01\n",
      "     -------- ----------------------------- 225.3/965.4 kB 2.8 MB/s eta 0:00:01\n",
      "     ------------- ------------------------ 337.9/965.4 kB 2.6 MB/s eta 0:00:01\n",
      "     ------------------ ------------------- 471.0/965.4 kB 2.7 MB/s eta 0:00:01\n",
      "     ---------------------- --------------- 563.2/965.4 kB 2.5 MB/s eta 0:00:01\n",
      "     --------------------------- ---------- 686.1/965.4 kB 2.5 MB/s eta 0:00:01\n",
      "     -------------------------------- ----- 819.2/965.4 kB 2.6 MB/s eta 0:00:01\n",
      "     ----------------------------------- -- 911.4/965.4 kB 2.5 MB/s eta 0:00:01\n",
      "     -------------------------------------- 965.4/965.4 kB 2.5 MB/s eta 0:00:00\n",
      "Collecting kiwisolver>=1.0.1\n",
      "  Downloading kiwisolver-1.4.4-cp311-cp311-win_amd64.whl (55 kB)\n",
      "     ---------------------------------------- 0.0/55.4 kB ? eta -:--:--\n",
      "     ---------------------------------------- 55.4/55.4 kB 3.0 MB/s eta 0:00:00\n",
      "Requirement already satisfied: numpy>=1.20 in c:\\users\\ravi\\appdata\\local\\programs\\python\\python311\\lib\\site-packages (from matplotlib) (1.24.2)\n",
      "Requirement already satisfied: packaging>=20.0 in c:\\users\\ravi\\appdata\\local\\programs\\python\\python311\\lib\\site-packages (from matplotlib) (23.0)\n",
      "Collecting pillow>=6.2.0\n",
      "  Downloading Pillow-9.4.0-cp311-cp311-win_amd64.whl (2.5 MB)\n",
      "     ---------------------------------------- 0.0/2.5 MB ? eta -:--:--\n",
      "     - -------------------------------------- 0.1/2.5 MB 5.1 MB/s eta 0:00:01\n",
      "     --- ------------------------------------ 0.2/2.5 MB 3.1 MB/s eta 0:00:01\n",
      "     ----- ---------------------------------- 0.3/2.5 MB 2.5 MB/s eta 0:00:01\n",
      "     ------ --------------------------------- 0.4/2.5 MB 2.6 MB/s eta 0:00:01\n",
      "     -------- ------------------------------- 0.5/2.5 MB 2.4 MB/s eta 0:00:01\n",
      "     ---------- ----------------------------- 0.6/2.5 MB 2.5 MB/s eta 0:00:01\n",
      "     ------------ --------------------------- 0.7/2.5 MB 2.5 MB/s eta 0:00:01\n",
      "     ------------- -------------------------- 0.8/2.5 MB 2.4 MB/s eta 0:00:01\n",
      "     --------------- ------------------------ 0.9/2.5 MB 2.5 MB/s eta 0:00:01\n",
      "     ----------------- ---------------------- 1.1/2.5 MB 2.5 MB/s eta 0:00:01\n",
      "     ------------------- -------------------- 1.2/2.5 MB 2.4 MB/s eta 0:00:01\n",
      "     --------------------- ------------------ 1.3/2.5 MB 2.4 MB/s eta 0:00:01\n",
      "     ----------------------- ---------------- 1.4/2.5 MB 2.5 MB/s eta 0:00:01\n",
      "     ------------------------ --------------- 1.5/2.5 MB 2.4 MB/s eta 0:00:01\n",
      "     -------------------------- ------------- 1.7/2.5 MB 2.5 MB/s eta 0:00:01\n",
      "     ---------------------------- ----------- 1.8/2.5 MB 2.4 MB/s eta 0:00:01\n",
      "     ------------------------------ --------- 1.9/2.5 MB 2.4 MB/s eta 0:00:01\n",
      "     -------------------------------- ------- 2.0/2.5 MB 2.4 MB/s eta 0:00:01\n",
      "     ---------------------------------- ----- 2.1/2.5 MB 2.5 MB/s eta 0:00:01\n",
      "     ------------------------------------ --- 2.3/2.5 MB 2.5 MB/s eta 0:00:01\n",
      "     -------------------------------------- - 2.4/2.5 MB 2.5 MB/s eta 0:00:01\n",
      "     ---------------------------------------- 2.5/2.5 MB 2.5 MB/s eta 0:00:00\n",
      "Collecting pyparsing>=2.3.1\n",
      "  Downloading pyparsing-3.0.9-py3-none-any.whl (98 kB)\n",
      "     ---------------------------------------- 0.0/98.3 kB ? eta -:--:--\n",
      "     ---------------------------------------- 98.3/98.3 kB 2.8 MB/s eta 0:00:00\n",
      "Requirement already satisfied: python-dateutil>=2.7 in c:\\users\\ravi\\appdata\\local\\programs\\python\\python311\\lib\\site-packages (from matplotlib) (2.8.2)\n",
      "Requirement already satisfied: six>=1.5 in c:\\users\\ravi\\appdata\\local\\programs\\python\\python311\\lib\\site-packages (from python-dateutil>=2.7->matplotlib) (1.16.0)\n",
      "Installing collected packages: pyparsing, pillow, kiwisolver, fonttools, cycler, contourpy, matplotlib\n",
      "Successfully installed contourpy-1.0.7 cycler-0.11.0 fonttools-4.38.0 kiwisolver-1.4.4 matplotlib-3.7.0 pillow-9.4.0 pyparsing-3.0.9\n"
     ]
    }
   ],
   "source": [
    "!pip install matplotlib"
   ]
  },
  {
   "cell_type": "code",
   "execution_count": null,
   "metadata": {},
   "outputs": [],
   "source": []
  }
 ],
 "metadata": {
  "kernelspec": {
   "display_name": "Python 3.11.2 64-bit",
   "language": "python",
   "name": "python3"
  },
  "language_info": {
   "codemirror_mode": {
    "name": "ipython",
    "version": 3
   },
   "file_extension": ".py",
   "mimetype": "text/x-python",
   "name": "python",
   "nbconvert_exporter": "python",
   "pygments_lexer": "ipython3",
   "version": "3.11.2"
  },
  "orig_nbformat": 4,
  "vscode": {
   "interpreter": {
    "hash": "049514dc93f3cbf775eb231dfbd48c5c9ab286c33a8d68b7478a854f7363060e"
   }
  }
 },
 "nbformat": 4,
 "nbformat_minor": 2
}
